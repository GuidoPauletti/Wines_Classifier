{
 "cells": [
  {
   "cell_type": "markdown",
   "metadata": {},
   "source": [
    "# **Wines Classifier**"
   ]
  },
  {
   "cell_type": "code",
   "execution_count": 1,
   "metadata": {},
   "outputs": [],
   "source": [
    "import numpy as np\n",
    "import pandas as pd\n",
    "import matplotlib.pyplot as plt"
   ]
  },
  {
   "cell_type": "code",
   "execution_count": 2,
   "metadata": {},
   "outputs": [
    {
     "data": {
      "text/html": [
       "<div>\n",
       "<style scoped>\n",
       "    .dataframe tbody tr th:only-of-type {\n",
       "        vertical-align: middle;\n",
       "    }\n",
       "\n",
       "    .dataframe tbody tr th {\n",
       "        vertical-align: top;\n",
       "    }\n",
       "\n",
       "    .dataframe thead th {\n",
       "        text-align: right;\n",
       "    }\n",
       "</style>\n",
       "<table border=\"1\" class=\"dataframe\">\n",
       "  <thead>\n",
       "    <tr style=\"text-align: right;\">\n",
       "      <th></th>\n",
       "      <th>Alcohol</th>\n",
       "      <th>Malic_Acid</th>\n",
       "      <th>Ash</th>\n",
       "      <th>Ash_Alcanity</th>\n",
       "      <th>Magnesium</th>\n",
       "      <th>Total_Phenols</th>\n",
       "      <th>Flavanoids</th>\n",
       "      <th>Nonflavanoid_Phenols</th>\n",
       "      <th>Proanthocyanins</th>\n",
       "      <th>Color_Intensity</th>\n",
       "      <th>Hue</th>\n",
       "      <th>OD280</th>\n",
       "      <th>Proline</th>\n",
       "      <th>Customer_Segment</th>\n",
       "    </tr>\n",
       "  </thead>\n",
       "  <tbody>\n",
       "    <tr>\n",
       "      <th>0</th>\n",
       "      <td>14.23</td>\n",
       "      <td>1.71</td>\n",
       "      <td>2.43</td>\n",
       "      <td>15.6</td>\n",
       "      <td>127</td>\n",
       "      <td>2.80</td>\n",
       "      <td>3.06</td>\n",
       "      <td>0.28</td>\n",
       "      <td>2.29</td>\n",
       "      <td>5.64</td>\n",
       "      <td>1.04</td>\n",
       "      <td>3.92</td>\n",
       "      <td>1065</td>\n",
       "      <td>1</td>\n",
       "    </tr>\n",
       "    <tr>\n",
       "      <th>1</th>\n",
       "      <td>13.20</td>\n",
       "      <td>1.78</td>\n",
       "      <td>2.14</td>\n",
       "      <td>11.2</td>\n",
       "      <td>100</td>\n",
       "      <td>2.65</td>\n",
       "      <td>2.76</td>\n",
       "      <td>0.26</td>\n",
       "      <td>1.28</td>\n",
       "      <td>4.38</td>\n",
       "      <td>1.05</td>\n",
       "      <td>3.40</td>\n",
       "      <td>1050</td>\n",
       "      <td>1</td>\n",
       "    </tr>\n",
       "    <tr>\n",
       "      <th>2</th>\n",
       "      <td>13.16</td>\n",
       "      <td>2.36</td>\n",
       "      <td>2.67</td>\n",
       "      <td>18.6</td>\n",
       "      <td>101</td>\n",
       "      <td>2.80</td>\n",
       "      <td>3.24</td>\n",
       "      <td>0.30</td>\n",
       "      <td>2.81</td>\n",
       "      <td>5.68</td>\n",
       "      <td>1.03</td>\n",
       "      <td>3.17</td>\n",
       "      <td>1185</td>\n",
       "      <td>1</td>\n",
       "    </tr>\n",
       "    <tr>\n",
       "      <th>3</th>\n",
       "      <td>14.37</td>\n",
       "      <td>1.95</td>\n",
       "      <td>2.50</td>\n",
       "      <td>16.8</td>\n",
       "      <td>113</td>\n",
       "      <td>3.85</td>\n",
       "      <td>3.49</td>\n",
       "      <td>0.24</td>\n",
       "      <td>2.18</td>\n",
       "      <td>7.80</td>\n",
       "      <td>0.86</td>\n",
       "      <td>3.45</td>\n",
       "      <td>1480</td>\n",
       "      <td>1</td>\n",
       "    </tr>\n",
       "    <tr>\n",
       "      <th>4</th>\n",
       "      <td>13.24</td>\n",
       "      <td>2.59</td>\n",
       "      <td>2.87</td>\n",
       "      <td>21.0</td>\n",
       "      <td>118</td>\n",
       "      <td>2.80</td>\n",
       "      <td>2.69</td>\n",
       "      <td>0.39</td>\n",
       "      <td>1.82</td>\n",
       "      <td>4.32</td>\n",
       "      <td>1.04</td>\n",
       "      <td>2.93</td>\n",
       "      <td>735</td>\n",
       "      <td>1</td>\n",
       "    </tr>\n",
       "  </tbody>\n",
       "</table>\n",
       "</div>"
      ],
      "text/plain": [
       "   Alcohol  Malic_Acid   Ash  Ash_Alcanity  Magnesium  Total_Phenols  \\\n",
       "0    14.23        1.71  2.43          15.6        127           2.80   \n",
       "1    13.20        1.78  2.14          11.2        100           2.65   \n",
       "2    13.16        2.36  2.67          18.6        101           2.80   \n",
       "3    14.37        1.95  2.50          16.8        113           3.85   \n",
       "4    13.24        2.59  2.87          21.0        118           2.80   \n",
       "\n",
       "   Flavanoids  Nonflavanoid_Phenols  Proanthocyanins  Color_Intensity   Hue  \\\n",
       "0        3.06                  0.28             2.29             5.64  1.04   \n",
       "1        2.76                  0.26             1.28             4.38  1.05   \n",
       "2        3.24                  0.30             2.81             5.68  1.03   \n",
       "3        3.49                  0.24             2.18             7.80  0.86   \n",
       "4        2.69                  0.39             1.82             4.32  1.04   \n",
       "\n",
       "   OD280  Proline  Customer_Segment  \n",
       "0   3.92     1065                 1  \n",
       "1   3.40     1050                 1  \n",
       "2   3.17     1185                 1  \n",
       "3   3.45     1480                 1  \n",
       "4   2.93      735                 1  "
      ]
     },
     "execution_count": 2,
     "metadata": {},
     "output_type": "execute_result"
    }
   ],
   "source": [
    "# load the data into wines variable\n",
    "wines = pd.read_csv('wine.csv')\n",
    "wines.head()"
   ]
  },
  {
   "cell_type": "markdown",
   "metadata": {},
   "source": [
    "**Note**<br>\n",
    "    The scales of the different attributes differ, some are in the hundreds, and others vary between 0 and 1."
   ]
  },
  {
   "cell_type": "markdown",
   "metadata": {},
   "source": [
    "<h3>Separate the label from the data</h3>"
   ]
  },
  {
   "cell_type": "code",
   "execution_count": 3,
   "metadata": {},
   "outputs": [],
   "source": [
    "Y = np.array(wines['Customer_Segment']).reshape((178,1)) #label\n",
    "X = np.array(wines.drop('Customer_Segment', axis=1)) #data"
   ]
  },
  {
   "cell_type": "code",
   "execution_count": 4,
   "metadata": {},
   "outputs": [
    {
     "name": "stdout",
     "output_type": "stream",
     "text": [
      "X: 178 rows; 13 columns\n",
      "Y: 178 rows; 1 column\n"
     ]
    }
   ],
   "source": [
    "print(f'X: {X.shape[0]} rows; {X.shape[1]} columns\\nY: {Y.shape[0]} rows; {Y.shape[1]} column')"
   ]
  },
  {
   "cell_type": "markdown",
   "metadata": {},
   "source": [
    "<h3>Let´s write a function to normalize the data</h3>"
   ]
  },
  {
   "cell_type": "markdown",
   "metadata": {},
   "source": [
    "First, create a function to compute the standard deviation."
   ]
  },
  {
   "cell_type": "markdown",
   "metadata": {},
   "source": [
    "Let the vector be: $[X_1,X_2,...,X_n]$<br>\n",
    "To calculate the result I use the following equations:<br><br>\n",
    "$mean = (\\sum_{i=1}^{n} X_i)/n$<br><br>\n",
    "$s = \\sqrt{\\frac{1}{n-1} \\sum_{i=1}^{n} (X_i - mean)^{2}}$"
   ]
  },
  {
   "cell_type": "code",
   "execution_count": 5,
   "metadata": {},
   "outputs": [],
   "source": [
    "def desviacion_standard(vector):\n",
    "\n",
    "    mean = sum(vector) / len(vector)\n",
    "\n",
    "    sumatoria = 0\n",
    "    for i in range(len(vector)):\n",
    "        sumatoria += (vector[i] - mean)**2\n",
    "\n",
    "    s = np.sqrt(sumatoria / (len(vector) - 1))\n",
    "    return (s, mean)"
   ]
  },
  {
   "cell_type": "code",
   "execution_count": 6,
   "metadata": {},
   "outputs": [],
   "source": [
    "def normalize(matrix):\n",
    "    '''\n",
    "    Given a numpy array, returns the normalized numpy array.\n",
    "    '''\n",
    "    rows, cols = matrix.shape\n",
    "    \n",
    "    for i in range(cols):\n",
    "        current_col = matrix[:,i]\n",
    "        \n",
    "        s, mean = desviacion_standard(current_col)\n",
    "\n",
    "        for f in range(rows):\n",
    "            matrix[f,i] = (matrix[f,i] - mean) / s\n",
    "\n",
    "\n",
    "    return matrix"
   ]
  },
  {
   "cell_type": "code",
   "execution_count": 7,
   "metadata": {},
   "outputs": [],
   "source": [
    "norm_X = normalize(X)"
   ]
  },
  {
   "cell_type": "markdown",
   "metadata": {},
   "source": [
    "Now I have the matrix with the normalized values, this is important as a prior step to looking for covariances between the attributes of the wines. <br><br>\n",
    "As we had seen in the dataframe, there are columns with scales larger than others, which was going to be a complication when deciding whether a relationship between two attributes is strong or weak. <br><br>\n",
    "With this step we ensure that all the variables have a mean of zero. Since the PCA process identifies those directions in which the variance is greater, all variables must be scaled to be comparable, otherwise those variables whose scale is greater will dominate the rest."
   ]
  },
  {
   "cell_type": "markdown",
   "metadata": {},
   "source": [
    "<h3>We obtain the covariance matrix</h3>"
   ]
  },
  {
   "cell_type": "markdown",
   "metadata": {},
   "source": [
    "In statistics, the covariance matrix is ​​used to analyze the relationship between two or more random variables. It is very useful because it allows you to interpret the correlation between many variables quickly, since it allows you to see the values ​​of all the covariances of the variables at the same time.\n",
    "\n",
    "The values ​​along the diagonals of the matrix are simply the variations of each variable.\n",
    "A positive covariance number indicates that two variables tend to increase or decrease together.\n",
    "A negative covariance number indicates that as one variable increases, a second variable tends to decrease."
   ]
  },
  {
   "cell_type": "markdown",
   "metadata": {},
   "source": [
    "To better understand what this is about, let's assume that we only have<br>\n",
    "three attributes of wines: $x$, $y$ and $z$. The covariance matrix will have the form:<br><br>\n",
    "$\n",
    "\\begin{pmatrix}\n",
    "var_{x} & con_{xy} & cov_{xz}\\\\\n",
    "cov_{xy} & var_{y} & cov_{yz}\\\\\n",
    "cov_{xz} & con_{zy} & var_{z}\n",
    "\\end{pmatrix}\n",
    "$"
   ]
  },
  {
   "cell_type": "markdown",
   "metadata": {},
   "source": [
    "Where<br>\n",
    "$cov_{xy}=\\frac{\\sum_{i=1}^{n} (x_i - media_x)(y_i - media_y)}{n}$\n",
    "<br>\n",
    "y\n",
    "<br>\n",
    "$cov_{xx}=\\frac{\\sum_{i=1}^{n} (x_i - media_x)(x_i - media_x)}{n}=var_x$"
   ]
  },
  {
   "cell_type": "markdown",
   "metadata": {},
   "source": [
    "Note that having the matrix centered at the origin and normalized in the form:<br><br>\n",
    "$norm\\_X=\n",
    "\\begin{pmatrix}\n",
    "x_1 - media_x & y_1 - media_y & z_1 - media_z\\\\\n",
    "x_2 - media_x & y_2 - media_y & z_2 - media_z\\\\\n",
    ": & : & :\\\\\n",
    "x_{178} - media_x & y_{178} - media_y & z_{178} - media_z\\\\\n",
    "\\end{pmatrix}\n",
    "$"
   ]
  },
  {
   "cell_type": "markdown",
   "metadata": {},
   "source": [
    "We can obtain the covariance matrix by simply calculating the dot product between $the$ $transpose$ $of$ $norm\\_X$ and $norm\\_X$ and then dividing everything by $n$ (178 in this case)"
   ]
  },
  {
   "cell_type": "markdown",
   "metadata": {},
   "source": [
    "$cov=\n",
    "\\frac{\n",
    "\\begin{pmatrix}\n",
    "x_1 - media_x & x_2 - media_x  & ... & x_{178} - media_x\\\\\n",
    "y_1 - media_y & y_2 - media_y & ... & y_{178} - media_y\\\\\n",
    "z_1 - media_z & z_2 - media_z & ... & z_{178} - media_z\n",
    "\\end{pmatrix}\n",
    "\\begin{pmatrix}\n",
    "x_1 - media_x & y_1 - media_y & z_1 - media_z\\\\\n",
    "x_2 - media_x & y_2 - media_y & z_2 - media_z\\\\\n",
    ": & : & :\\\\\n",
    "x_{178} - media_x & y_{178} - media_y & z_{178} - media_z\\\\\n",
    "\\end{pmatrix}\n",
    "}{n}\n",
    "$"
   ]
  },
  {
   "cell_type": "code",
   "execution_count": 8,
   "metadata": {},
   "outputs": [],
   "source": [
    "def covariance(matriz):\n",
    "    \n",
    "    # obtenemos n (numero de filas, osea de vinos)\n",
    "    n = matriz.shape[0]\n",
    "\n",
    "    # multiplicamos la transpuesta y la matriz y dividimos por n\n",
    "    C = np.dot(np.transpose(matriz),matriz) / n\n",
    "\n",
    "    return C"
   ]
  },
  {
   "cell_type": "code",
   "execution_count": 9,
   "metadata": {},
   "outputs": [],
   "source": [
    "# guardo la matriz de covarianza en una variable\n",
    "cov_X = covariance(norm_X)"
   ]
  },
  {
   "cell_type": "markdown",
   "metadata": {},
   "source": [
    "<h3>We apply the power method</h3>\n",
    "And find the maximum eigenvector with its eigenvalue"
   ]
  },
  {
   "cell_type": "code",
   "execution_count": 10,
   "metadata": {},
   "outputs": [],
   "source": [
    "def max_eigenvec_eigenval(A):\n",
    "    \n",
    "    v = np.random.rand(A.shape[0])\n",
    "    former_v = np.random.rand(A.shape[0])\n",
    "\n",
    "    for i in range(1000): \n",
    "        Av = A @ v\n",
    "        v = Av / np.linalg.norm(Av, 2)\n",
    "        \n",
    "        if np.allclose(v,former_v):\n",
    "            break\n",
    "\n",
    "        former_v = v.copy()\n",
    "\n",
    "    v_shape = (len(v), 1)\n",
    "    eigenvector = v.reshape(v_shape)\n",
    "\n",
    "    eigenvalue = np.linalg.norm(A @ v, 2)\n",
    "\n",
    "    return(eigenvector, eigenvalue)"
   ]
  },
  {
   "cell_type": "markdown",
   "metadata": {},
   "source": [
    "<h3>But we want the n maximum eigenvectors</h3>"
   ]
  },
  {
   "cell_type": "code",
   "execution_count": 11,
   "metadata": {},
   "outputs": [],
   "source": [
    "def n_eigenvec_eigenval(A, n):\n",
    "\n",
    "    matriz = A.copy()\n",
    "    \n",
    "    results = []\n",
    "    \n",
    "    for i in range(n):\n",
    "        eigenvector, eigenval = max_eigenvec_eigenval(matriz)\n",
    "        results.append((eigenval, eigenvector))\n",
    "\n",
    "        # we eliminate the component corresponding to the eigenvalue found\n",
    "        matriz -= eigenval * np.dot(eigenvector, np.transpose(eigenvector))\n",
    "\n",
    "    return results"
   ]
  },
  {
   "cell_type": "markdown",
   "metadata": {},
   "source": [
    "At this point, we will obtain the classification of a particular wine based on a given set of characteristics, that is, to which customer segment it belongs.\n",
    "\n",
    "To do this, we first define the following function:"
   ]
  },
  {
   "cell_type": "markdown",
   "metadata": {},
   "source": [
    "$matrix\\_W$ creates the $W$ matrix with the main components.\n",
    "<br>\n",
    "Where $T = X.W$ gives me projection of the points on the principal components."
   ]
  },
  {
   "cell_type": "code",
   "execution_count": 12,
   "metadata": {},
   "outputs": [],
   "source": [
    "def matrix_W(pc):\n",
    "    \n",
    "    eigenvectors = []\n",
    "    \n",
    "    for i in range(len(pc)):\n",
    "        eigenvectors.append(pc[i][1])\n",
    "\n",
    "    dim_vector = len(eigenvectors[0])\n",
    "    \n",
    "    W = np.array(eigenvectors).reshape((dim_vector), len(pc))\n",
    "    \n",
    "    return W"
   ]
  },
  {
   "cell_type": "markdown",
   "metadata": {},
   "source": [
    "Then, we create the function *projection*, which, given a data with the wine(s) to be classified and the main eigenvector(s), returns the matrix T, whose rows are the projected points.\n",
    "\n",
    "T explains the dependent variable Y from a linear combination of the original data where only the first n terms are considered for each observation."
   ]
  },
  {
   "cell_type": "code",
   "execution_count": 13,
   "metadata": {},
   "outputs": [],
   "source": [
    "def projection(data, componentes_principales):\n",
    "    \n",
    "    # T = X.W\n",
    "    T = data @ matrix_W(componentes_principales)\n",
    "    \n",
    "    return T"
   ]
  },
  {
   "cell_type": "markdown",
   "metadata": {},
   "source": [
    "**Now, We implement the kNN algorithm**"
   ]
  },
  {
   "cell_type": "code",
   "execution_count": 14,
   "metadata": {},
   "outputs": [],
   "source": [
    "def predict(new_wine, T_train, Y_train, k):\n",
    "    \n",
    "    distances = []\n",
    "    for i in range(T_train.shape[0]):\n",
    "        euclidea = np.sqrt(sum((new_wine - T_train[i,:])**2))\n",
    "        distances.append(euclidea)\n",
    "\n",
    "    sorted_indexes = np.argsort(distances)[:k]\n",
    "\n",
    "    k_neighbors = Y_train[sorted_indexes].reshape((k,))\n",
    "\n",
    "    prediction = np.bincount(k_neighbors).argmax()\n",
    "    \n",
    "    return prediction"
   ]
  },
  {
   "cell_type": "code",
   "execution_count": 15,
   "metadata": {},
   "outputs": [],
   "source": [
    "def knn(T_test, T_train, Y_train, k):\n",
    "    \n",
    "    y_pred = []\n",
    "    for i in range(T_test.shape[0]):\n",
    "        pred = predict(T_test[i,:], T_train, Y_train, k)\n",
    "        y_pred.append(pred)\n",
    "\n",
    "    return y_pred"
   ]
  },
  {
   "cell_type": "markdown",
   "metadata": {},
   "source": [
    "**Now we evaluate our model, dividing the data into train and test sets.**"
   ]
  },
  {
   "cell_type": "code",
   "execution_count": 16,
   "metadata": {},
   "outputs": [],
   "source": [
    "def split_data(data, label):\n",
    "    \n",
    "    filas = data.shape[0]\n",
    "    np.random.seed(42)\n",
    "    random_indexes = np.random.randint(0,filas - 1, filas)\n",
    "\n",
    "    # 20% test // 80% train\n",
    "    limit = filas // 5\n",
    "\n",
    "    train_data = data[random_indexes[limit:],:]\n",
    "    train_lab = label[random_indexes[limit:],:]\n",
    "    test_data = data[random_indexes[:limit],:]\n",
    "    test_lab = label[random_indexes[:limit],:]\n",
    "    \n",
    "    return train_data, train_lab, test_data, test_lab"
   ]
  },
  {
   "cell_type": "code",
   "execution_count": 17,
   "metadata": {},
   "outputs": [],
   "source": [
    "X_train, Y_train, X_test, Y_test = split_data(norm_X, Y)"
   ]
  },
  {
   "cell_type": "markdown",
   "metadata": {},
   "source": [
    "<h3>Creating the models</h3>\n",
    "Using 1, 2, 3 y 4 eigenvectors, having 4 distinct models."
   ]
  },
  {
   "cell_type": "code",
   "execution_count": 18,
   "metadata": {},
   "outputs": [],
   "source": [
    "modelo1 = n_eigenvec_eigenval(cov_X, 1)\n",
    "modelo2 = n_eigenvec_eigenval(cov_X, 2)\n",
    "modelo3 = n_eigenvec_eigenval(cov_X, 3)\n",
    "modelo4 = n_eigenvec_eigenval(cov_X, 4)"
   ]
  },
  {
   "cell_type": "code",
   "execution_count": 19,
   "metadata": {},
   "outputs": [],
   "source": [
    "info_table = n_eigenvec_eigenval(cov_X, 13)\n",
    "\n",
    "eigenvalues = [tupla[0] for tupla in info_table]"
   ]
  },
  {
   "cell_type": "code",
   "execution_count": 20,
   "metadata": {},
   "outputs": [],
   "source": [
    "def explained_variation(eigenvalues_, n):\n",
    "    \n",
    "    sum_ev = sum(eigenvalues)\n",
    "    expl_vars = []\n",
    "    \n",
    "    # calculamos la varianza explicada de los primeros n autovalores y las guardamos\n",
    "    for i in range(n):\n",
    "        current_expl_var = eigenvalues_[i] / sum_ev\n",
    "        expl_vars.append(current_expl_var)\n",
    "\n",
    "    return expl_vars"
   ]
  },
  {
   "cell_type": "code",
   "execution_count": 21,
   "metadata": {},
   "outputs": [
    {
     "name": "stdout",
     "output_type": "stream",
     "text": [
      "explained variation of the eigenvalues 1: 0.3619884809990597\n",
      "explained variation of the eigenvalues 2: 0.19207490256998128\n",
      "explained variation of the eigenvalues 3: 0.11123630536226191\n",
      "explained variation of the eigenvalues 4: 0.07069030182672668\n"
     ]
    }
   ],
   "source": [
    "explained_variations = explained_variation(eigenvalues, 4)\n",
    "\n",
    "for i in range(len(explained_variations)):\n",
    "    print(f\"explained variation of the eigenvalues {i + 1}: {explained_variations[i]}\")"
   ]
  },
  {
   "cell_type": "markdown",
   "metadata": {},
   "source": [
    "The percentages are obtained simply by multiplying the explained variance by 100."
   ]
  },
  {
   "cell_type": "code",
   "execution_count": 22,
   "metadata": {},
   "outputs": [
    {
     "name": "stdout",
     "output_type": "stream",
     "text": [
      "percentaje in variance by the eigenvalue 1: 36.2 %\n",
      "percentaje in variance by the eigenvalue 2: 19.21 %\n",
      "percentaje in variance by the eigenvalue 3: 11.12 %\n",
      "percentaje in variance by the eigenvalue 4: 7.07 %\n"
     ]
    }
   ],
   "source": [
    "percentages = [x * 100 for x in explained_variations]\n",
    "\n",
    "for i in range(len(percentages)):\n",
    "    print(f\"percentaje in variance by the eigenvalue {i + 1}: {percentages[i].round(2)} %\")"
   ]
  },
  {
   "cell_type": "markdown",
   "metadata": {},
   "source": [
    "Now we obtain the accumulated percentage for each model."
   ]
  },
  {
   "cell_type": "code",
   "execution_count": 23,
   "metadata": {},
   "outputs": [
    {
     "name": "stdout",
     "output_type": "stream",
     "text": [
      "accum by the model with 1 principal/s component/s: 36.2 %\n",
      "accum by the model with 2 principal/s component/s: 55.41 %\n",
      "accum by the model with 3 principal/s component/s: 66.53 %\n",
      "accum by the model with 4 principal/s component/s: 73.6 %\n"
     ]
    }
   ],
   "source": [
    "accum = [sum(percentages[:i + 1]) for i in range(len(percentages))]\n",
    "\n",
    "\n",
    "for i in range(len(accum)):\n",
    "   print(f\"accum by the model with {i + 1} principal/s component/s: {accum[i].round(2)} %\")"
   ]
  },
  {
   "cell_type": "markdown",
   "metadata": {},
   "source": [
    "<table>\n",
    "    <thead>\n",
    "        <tr>\n",
    "            <th>Model PCA</th>\n",
    "            <th>Component</th>\n",
    "            <th>Explained variation</th>\n",
    "            <th>Percentage</th>\n",
    "            <th>Accumulated</th>\n",
    "        </tr>\n",
    "    </thead>\n",
    "    <tbody>\n",
    "        <tr>\n",
    "            <td align=\"center\">1 Principal Component</td>\n",
    "            <td align=\"center\">1</td>\n",
    "            <td align=\"center\">0.36</td>\n",
    "            <td align=\"center\">36.2 %</td>\n",
    "            <td align=\"center\">36.2 %</td>\n",
    "        </tr>\n",
    "        <tr>\n",
    "            <td rowspan=2 align=\"center\">2 Principal Components</td>\n",
    "            <td align=\"center\">1</td>\n",
    "            <td align=\"center\">0.36</td>\n",
    "            <td align=\"center\">36.2 %</td>\n",
    "            <td rowspan= 2 align=\"center\">55.41 %</td>\n",
    "        </tr>\n",
    "        <tr>\n",
    "            <td align=\"center\">2</td>\n",
    "            <td align=\"center\">0.19</td>\n",
    "            <td align=\"center\">19.21 %</td>\n",
    "        </tr>\n",
    "        <tr>\n",
    "            <td rowspan=3 align=\"center\">3 Principal Components</td>\n",
    "            <td align=\"center\">1</td>\n",
    "            <td align=\"center\">0.36</td>\n",
    "            <td align=\"center\">36.2 %</td>\n",
    "            <td rowspan=3 align=\"center\">66.53 %</td>\n",
    "        </tr>\n",
    "        <tr>\n",
    "            <td align=\"center\">2</td>\n",
    "            <td align=\"center\">0.19</td>\n",
    "            <td align=\"center\">19.21 %</td>\n",
    "        </tr>\n",
    "        <tr>\n",
    "            <td align=\"center\">3</td>\n",
    "            <td align=\"center\">0.11</td>\n",
    "            <td align=\"center\">11.12 %</td>\n",
    "        </tr>\n",
    "        <tr>\n",
    "            <td rowspan=4 align=\"center\">4 Principal Components</td>\n",
    "            <td align=\"center\">1</td>\n",
    "            <td align=\"center\">0.36</td>\n",
    "            <td align=\"center\">36.2 %</td>\n",
    "            <td rowspan=4 align=\"center\">73.6 %</td>\n",
    "        </tr>\n",
    "        <tr>\n",
    "            <td align=\"center\">2</td>\n",
    "            <td align=\"center\">0.19</td>\n",
    "            <td align=\"center\">19.21 %</td>\n",
    "        </tr>\n",
    "        <tr>\n",
    "            <td align=\"center\">3</td>\n",
    "            <td align=\"center\">0.11</td>\n",
    "            <td align=\"center\">11.12 %</td>\n",
    "        </tr>\n",
    "        <tr>\n",
    "            <td align=\"center\">4</td>\n",
    "            <td align=\"center\">0.07</td>\n",
    "            <td align=\"center\">7.07 %</td>\n",
    "        </tr>\n",
    "    </tbody>\n",
    "</table>"
   ]
  },
  {
   "cell_type": "markdown",
   "metadata": {},
   "source": [
    "With this information, we know that the principal component explains about 36.2% of the variability in the 13 original variables, so the complexity of the data set can be greatly reduced by using this component.\n",
    "\n",
    "As more components are used, the complexity decreases, with only 26.4% information loss using all 4."
   ]
  },
  {
   "cell_type": "markdown",
   "metadata": {},
   "source": [
    "**Let´s plot some visualizations**"
   ]
  },
  {
   "cell_type": "code",
   "execution_count": 24,
   "metadata": {},
   "outputs": [
    {
     "data": {
      "text/plain": [
       "Text(0.5, 1.0, 'Explained variation accumulated by Model')"
      ]
     },
     "execution_count": 24,
     "metadata": {},
     "output_type": "execute_result"
    },
    {
     "data": {
      "image/png": "[encoded data removed]",
      "text/plain": [
       "<Figure size 640x480 with 1 Axes>"
      ]
     },
     "metadata": {},
     "output_type": "display_data"
    }
   ],
   "source": [
    "plt.scatter(['1','2','3','4'], accum, color = 'maroon')\n",
    "plt.plot(['1','2','3','4'], accum, color = 'black')\n",
    "plt.ylim(0,100)\n",
    "\n",
    "\n",
    "plt.xlabel('Model')\n",
    "plt.ylabel('Explained variation accumulated %')\n",
    "plt.title('Explained variation accumulated by Model')"
   ]
  },
  {
   "cell_type": "code",
   "execution_count": 25,
   "metadata": {},
   "outputs": [
    {
     "data": {
      "text/plain": [
       "Text(0.5, 1.0, 'Explained variation by Component')"
      ]
     },
     "execution_count": 25,
     "metadata": {},
     "output_type": "execute_result"
    },
    {
     "data": {
      "image/png": "[encoded data removed]",
      "text/plain": [
       "<Figure size 640x480 with 1 Axes>"
      ]
     },
     "metadata": {},
     "output_type": "display_data"
    }
   ],
   "source": [
    "plt.scatter(['1','2','3','4'], explained_variations, color = 'violet')\n",
    "plt.plot(['1','2','3','4'], explained_variations, color = 'pink')\n",
    "\n",
    "# añadimos etiquetas y título\n",
    "plt.xlabel('Component')\n",
    "plt.ylabel('Explained variation')\n",
    "plt.title('Explained variation by Component')"
   ]
  },
  {
   "cell_type": "markdown",
   "metadata": {},
   "source": [
    "<h3>Let´s find out how accurate the Models are.</h3>"
   ]
  },
  {
   "cell_type": "code",
   "execution_count": 26,
   "metadata": {},
   "outputs": [],
   "source": [
    "def predict_y(modelo):\n",
    "\n",
    "    T_train = projection(X_train, modelo)\n",
    "    T_test = projection(X_test, modelo)\n",
    "\n",
    "    Y_estimated = knn(T_test, T_train, Y_train, 3)\n",
    "\n",
    "    return Y_estimated"
   ]
  },
  {
   "cell_type": "code",
   "execution_count": 27,
   "metadata": {},
   "outputs": [],
   "source": [
    "# get each models prediction\n",
    "EstimatedY_model1 = predict_y(modelo1)\n",
    "EstimatedY_model2 = predict_y(modelo2)\n",
    "EstimatedY_model3 = predict_y(modelo3)\n",
    "EstimatedY_model4 = predict_y(modelo4)"
   ]
  },
  {
   "cell_type": "code",
   "execution_count": 28,
   "metadata": {},
   "outputs": [],
   "source": [
    "accuracy_model1 = np.mean(EstimatedY_model1 == Y_test.reshape((35,)))\n",
    "accuracy_model2 = np.mean(EstimatedY_model2 == Y_test.reshape((35,)))\n",
    "accuracy_model3 = np.mean(EstimatedY_model3 == Y_test.reshape((35,)))\n",
    "accuracy_model4 = np.mean(EstimatedY_model4 == Y_test.reshape((35,)))"
   ]
  },
  {
   "cell_type": "code",
   "execution_count": 29,
   "metadata": {},
   "outputs": [],
   "source": [
    "success_percentage = [accuracy_model1, accuracy_model2, accuracy_model3, accuracy_model4]"
   ]
  },
  {
   "cell_type": "code",
   "execution_count": 30,
   "metadata": {},
   "outputs": [
    {
     "data": {
      "text/plain": [
       "Text(0.5, 1.0, 'Success Percentage by Model')"
      ]
     },
     "execution_count": 30,
     "metadata": {},
     "output_type": "execute_result"
    },
    {
     "data": {
      "image/png": "[encoded data removed]",
      "text/plain": [
       "<Figure size 640x480 with 1 Axes>"
      ]
     },
     "metadata": {},
     "output_type": "display_data"
    }
   ],
   "source": [
    "plt.bar(['Model 1','Model 2','Model 3', 'Model 4'], success_percentage, color = 'coral')\n",
    "\n",
    "# añadimos etiquetas y título\n",
    "plt.ylabel('Success Percentage %')\n",
    "plt.title('Success Percentage by Model')"
   ]
  },
  {
   "cell_type": "code",
   "execution_count": 31,
   "metadata": {},
   "outputs": [
    {
     "data": {
      "text/plain": [
       "Text(0.5, 1.0, 'Comparison of eigenvalues')"
      ]
     },
     "execution_count": 31,
     "metadata": {},
     "output_type": "execute_result"
    },
    {
     "data": {
      "image/png": "[encoded data removed]",
      "text/plain": [
       "<Figure size 640x480 with 1 Axes>"
      ]
     },
     "metadata": {},
     "output_type": "display_data"
    }
   ],
   "source": [
    "plt.clf()\n",
    "plt.scatter([i + 1 for i in range(13)],eigenvalues)\n",
    "\n",
    "# añadimos etiquetas y título\n",
    "plt.xlabel('Eigenvalue')\n",
    "plt.ylabel('Value')\n",
    "plt.title('Comparison of eigenvalues')"
   ]
  },
  {
   "cell_type": "markdown",
   "metadata": {},
   "source": [
    "With these plots and the table, we suggest using model3 to predict the segment to which it belongs\n",
    "the wine.\n",
    "\n",
    "This is because, if we take into account that the aim is to make a recommendation quickly, although model 4 is the one\n",
    "With a higher percentage of correct answers, model 3 had a similar percentage and uses one less component.\n",
    "\n",
    "On the other hand, if faster speed is needed, we recommend using model 1, which, although it has a lower percentage of\n",
    "successes than the other two models, this percentage was quite good and it is the model that uses the fewest components.\n",
    "\n",
    "If we do not take into account the time factor, model 4 is the most recommended model to predict."
   ]
  },
  {
   "cell_type": "markdown",
   "metadata": {},
   "source": [
    "Calculate the confusion matrix for each of the models"
   ]
  },
  {
   "cell_type": "code",
   "execution_count": 32,
   "metadata": {},
   "outputs": [],
   "source": [
    "def confusion_matrix(prediction, test):\n",
    "    \n",
    "    matrix = np.zeros((3,3))\n",
    "    n = test.shape[0]\n",
    "     \n",
    "    for i in range(0,n):\n",
    "        for k in range(0,4):\n",
    "            if test[i] == k:\n",
    "                if prediction[i] == 1:\n",
    "                    matrix[k-1][0] += 1\n",
    "                if prediction[i] == 2:\n",
    "                    matrix[k-1][1] += 1\n",
    "                if prediction[i] == 3:\n",
    "                    matrix[k-1][2] += 1\n",
    "                    \n",
    "    return matrix"
   ]
  },
  {
   "cell_type": "code",
   "execution_count": 33,
   "metadata": {},
   "outputs": [
    {
     "data": {
      "text/plain": [
       "array([[13.,  0.,  0.],\n",
       "       [ 4., 10.,  1.],\n",
       "       [ 0.,  1.,  6.]])"
      ]
     },
     "execution_count": 33,
     "metadata": {},
     "output_type": "execute_result"
    }
   ],
   "source": [
    "confusion_matrix(EstimatedY_model1, Y_test)"
   ]
  },
  {
   "cell_type": "code",
   "execution_count": 34,
   "metadata": {},
   "outputs": [
    {
     "data": {
      "text/plain": [
       "array([[12.,  1.,  0.],\n",
       "       [ 4., 10.,  1.],\n",
       "       [ 0.,  4.,  3.]])"
      ]
     },
     "execution_count": 34,
     "metadata": {},
     "output_type": "execute_result"
    }
   ],
   "source": [
    "confusion_matrix(EstimatedY_model2, Y_test)"
   ]
  },
  {
   "cell_type": "code",
   "execution_count": 35,
   "metadata": {},
   "outputs": [
    {
     "data": {
      "text/plain": [
       "array([[12.,  0.,  1.],\n",
       "       [ 2., 12.,  1.],\n",
       "       [ 0.,  0.,  7.]])"
      ]
     },
     "execution_count": 35,
     "metadata": {},
     "output_type": "execute_result"
    }
   ],
   "source": [
    "confusion_matrix(EstimatedY_model3, Y_test)"
   ]
  },
  {
   "cell_type": "code",
   "execution_count": 36,
   "metadata": {},
   "outputs": [
    {
     "data": {
      "text/plain": [
       "array([[12.,  1.,  0.],\n",
       "       [ 1., 13.,  1.],\n",
       "       [ 0.,  0.,  7.]])"
      ]
     },
     "execution_count": 36,
     "metadata": {},
     "output_type": "execute_result"
    }
   ],
   "source": [
    "confusion_matrix(EstimatedY_model4, Y_test)"
   ]
  },
  {
   "cell_type": "markdown",
   "metadata": {},
   "source": [
    "If we compare the 4 confusion matrices, we can see that model 4 is the best at predicting:\n",
    "    \n",
    "    - In the first confusion matrix, we can see that model 1 presented few errors, having more problems\n",
    "    to detect classification 2 wines, mostly confusing them with type 1.\n",
    "    \n",
    "    - In the second, we can see that for model 2 the number of errors increases for classifications 1 and 3,\n",
    "    while the errors of type 2 wines remain.\n",
    "    From this, we can conclude that model1 is better at predicting than model2.\n",
    "    \n",
    "    - In the third, we can see that model 3 presented few errors (less than model 1), it had problems to\n",
    "    detect some wines of classification 1 and 2.\n",
    "    \n",
    "    - Finally, in the fourth, we see that model 4 is the one that presented the fewest errors. Although it had errors both\n",
    "    For classification 1 and 2, these were very few. For this reason we say that this model is the best\n",
    "    to predict."
   ]
  }
 ],
 "metadata": {
  "kernelspec": {
   "display_name": "Python 3 (ipykernel)",
   "language": "python",
   "name": "python3"
  },
  "language_info": {
   "codemirror_mode": {
    "name": "ipython",
    "version": 3
   },
   "file_extension": ".py",
   "mimetype": "text/x-python",
   "name": "python",
   "nbconvert_exporter": "python",
   "pygments_lexer": "ipython3",
   "version": "3.11.0"
  }
 },
 "nbformat": 4,
 "nbformat_minor": 2
}
